{
 "cells": [
  {
   "cell_type": "markdown",
   "metadata": {},
   "source": [
    "# these are notes for blah blah blah\n",
    "\n",
    "* kj\n",
    "* kjkljlk]\n",
    "]\n",
    "\n",
    "\n",
    "\n",
    "ekrjweklrjklwerjwlekrjwer\n",
    "\n",
    "\n"
   ]
  },
  {
   "cell_type": "code",
   "execution_count": 1,
   "metadata": {
    "collapsed": false
   },
   "outputs": [
    {
     "name": "stdout",
     "output_type": "stream",
     "text": [
      "\u001b[0mcx67                            (virtualbox, 0)\u001b[0m\n",
      "\u001b[0mcx71                            (virtualbox, 0)\u001b[0m\n",
      "\u001b[0mpuppetlabs/ubuntu-14.04-64-nocm (virtualbox, 1.0.3)\u001b[0m\n",
      "\u001b[0mux1204                          (virtualbox, 0)\u001b[0m\n",
      "\u001b[0mux1404                          (virtualbox, 0)\u001b[0m\n"
     ]
    }
   ],
   "source": [
    "!vagrant box list"
   ]
  }
 ],
 "metadata": {
  "kernelspec": {
   "display_name": "Python 2",
   "language": "python",
   "name": "python2"
  },
  "language_info": {
   "codemirror_mode": {
    "name": "ipython",
    "version": 2
   },
   "file_extension": ".py",
   "mimetype": "text/x-python",
   "name": "python",
   "nbconvert_exporter": "python",
   "pygments_lexer": "ipython2",
   "version": "2.7.11"
  }
 },
 "nbformat": 4,
 "nbformat_minor": 0
}
