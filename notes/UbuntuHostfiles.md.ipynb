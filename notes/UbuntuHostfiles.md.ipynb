{
 "cells": [
  {
   "cell_type": "code",
   "execution_count": 22,
   "metadata": {
    "collapsed": false
   },
   "outputs": [
    {
     "name": "stdout",
     "output_type": "stream",
     "text": [
      "\u001b[0mCurrent machine states:\n",
      "\n",
      "puppet                    poweroff (virtualbox)\n",
      "pa00                      not created (virtualbox)\n",
      "\n",
      "This environment represents multiple VMs. The VMs are all listed\n",
      "above with their current state. For more information about a specific\n",
      "VM, run `vagrant status NAME`.\u001b[0m\n",
      "\u001b[1m==> pa00: VM not created. Moving on...\u001b[0m\n",
      "\u001b[1m==> puppet: Destroying VM and associated drives...\u001b[0m\n",
      "\u001b[0mBringing machine 'puppet' up with 'virtualbox' provider...\u001b[0m\n",
      "\u001b[1m==> puppet: Importing base box 'ux1404'...\u001b[0m\n",
      "\u001b[K\u001b[0m\u001b[1m==> puppet: Matching MAC address for NAT networking...\u001b[0m\n",
      "\u001b[1m==> puppet: Setting the name of the VM: LAXPT_puppet_1463783347603_46905\u001b[0m\n",
      "\u001b[1m==> puppet: Fixed port collision for 22 => 2222. Now on port 2205.\u001b[0m\n",
      "\u001b[1m==> puppet: Clearing any previously set network interfaces...\u001b[0m\n",
      "\u001b[1m==> puppet: Available bridged network interfaces:\u001b[0m\n",
      "\u001b[1m1) en0: Wi-Fi (AirPort)\u001b[0m\n",
      "\u001b[1m2) en1: Thunderbolt 1\u001b[0m\n",
      "\u001b[1m3) en2: Thunderbolt 2\u001b[0m\n",
      "\u001b[1m4) p2p0\u001b[0m\n",
      "\u001b[1m5) awdl0\u001b[0m\n",
      "\u001b[1m6) bridge0\u001b[0m\n",
      "\u001b[1m==> puppet: When choosing an interface, it is usually the one that is\n",
      "==> puppet: being used to connect to the internet.\u001b[0m\n",
      "\u001b[0m    puppet: Which interface should the network bridge to? \u001b[0m^C\u001b[1;33m==> puppet: Waiting for cleanup before exiting...\u001b[0m\n",
      "\n",
      "\u001b[0m    puppet: Which interface should the network bridge to? \u001b[0m"
     ]
    }
   ],
   "source": [
    "%alias vx vagrant\n",
    "\n",
    "%vx status\n",
    "%vx destroy --force \n",
    "%vx up"
   ]
  },
  {
   "cell_type": "code",
   "execution_count": null,
   "metadata": {
    "collapsed": true
   },
   "outputs": [],
   "source": []
  },
  {
   "cell_type": "code",
   "execution_count": 17,
   "metadata": {
    "collapsed": false
   },
   "outputs": [
    {
     "name": "stdout",
     "output_type": "stream",
     "text": [
      "(in /Users/jayeola/projects/LAXPT)\r\n",
      "rake default       # \r\n",
      "rake spec          # \r\n",
      "rake spec:all      # \r\n",
      "rake spec:default  # \r\n",
      "rake spec:uxpm00   # Run serverspec tests to uxpm00\r\n"
     ]
    }
   ],
   "source": [
    "!rake -T --all"
   ]
  },
  {
   "cell_type": "markdown",
   "metadata": {},
   "source": [
    "Format:\n",
    "<IP> <HOSTNAME>.<DOMAIN> <ALIAS>\n",
    "\n",
    "Example:\n",
    "127.0.0.1 localhost.localdomain localhost"
   ]
  },
  {
   "cell_type": "code",
   "execution_count": null,
   "metadata": {
    "collapsed": true
   },
   "outputs": [],
   "source": [
    "%vx ssh puppet -c 'cat /etc/hosts; hostname'\n"
   ]
  }
 ],
 "metadata": {
  "kernelspec": {
   "display_name": "Python 2",
   "language": "python",
   "name": "python2"
  },
  "language_info": {
   "codemirror_mode": {
    "name": "ipython",
    "version": 2
   },
   "file_extension": ".py",
   "mimetype": "text/x-python",
   "name": "python",
   "nbconvert_exporter": "python",
   "pygments_lexer": "ipython2",
   "version": "2.7.11"
  }
 },
 "nbformat": 4,
 "nbformat_minor": 0
}
