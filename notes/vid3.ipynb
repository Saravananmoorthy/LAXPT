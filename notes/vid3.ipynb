{
 "cells": [
  {
   "cell_type": "markdown",
   "metadata": {},
   "source": [
    "## Vid three - Puppet Head First (Building A MOTD Module)\n",
    "\n",
    "I think that we can use any version of any distro we like! \n",
    "\n",
    "## my workstation - tw1-mbp\n",
    "This is all run on a Macbook."
   ]
  },
  {
   "cell_type": "code",
   "execution_count": 52,
   "metadata": {
    "collapsed": true
   },
   "outputs": [
    {
     "name": "stdout",
     "output_type": "stream",
     "text": [
      "Darwin tw1-mbp.config 15.5.0 Darwin Kernel Version 15.5.0: Tue Apr 19 18:36:36 PDT 2016; root:xnu-3248.50.21~8/RELEASE_X86_64 x86_64\r\n"
     ]
    }
   ],
   "source": [
    "!uname -a"
   ]
  },
  {
   "cell_type": "markdown",
   "metadata": {},
   "source": [
    "## my vagrant set up\n",
    "\n",
    "I will be using my own vagrant boxes"
   ]
  },
  {
   "cell_type": "code",
   "execution_count": 53,
   "metadata": {
    "collapsed": true
   },
   "outputs": [
    {
     "name": "stdout",
     "output_type": "stream",
     "text": [
      "\u001b[0mcx67                            (virtualbox, 0)\u001b[0m\n",
      "\u001b[0mcx71                            (virtualbox, 0)\u001b[0m\n",
      "\u001b[0mpuppetlabs/ubuntu-14.04-64-nocm (virtualbox, 1.0.3)\u001b[0m\n",
      "\u001b[0mux1204                          (virtualbox, 0)\u001b[0m\n",
      "\u001b[0mux1404                          (virtualbox, 0)\u001b[0m\n"
     ]
    }
   ],
   "source": [
    "!vagrant box list"
   ]
  },
  {
   "cell_type": "code",
   "execution_count": 32,
   "metadata": {
    "collapsed": true
   },
   "outputs": [
    {
     "name": "stdout",
     "output_type": "stream",
     "text": [
      "\u001b[0mid       \u001b[0m\u001b[0mname   \u001b[0m\u001b[0mprovider   \u001b[0m\u001b[0mstate   \u001b[0m\u001b[0mdirectory                           \u001b[0m\u001b[0m\u001b[0m\n",
      "\u001b[0m-----------------------------------------------------------------------\u001b[0m\n",
      "\u001b[0mea57090  \u001b[0m\u001b[0muxpm00 \u001b[0m\u001b[0mvirtualbox \u001b[0m\u001b[0mrunning \u001b[0m\u001b[0m/Users/jayeola/projects/LAXPT       \u001b[0m\u001b[0m\u001b[0m\n",
      "\u001b[0m9730aea  \u001b[0m\u001b[0muxpa00 \u001b[0m\u001b[0mvirtualbox \u001b[0m\u001b[0mrunning \u001b[0m\u001b[0m/Users/jayeola/projects/LAXPT       \u001b[0m\u001b[0m\u001b[0m\n",
      "\u001b[0m \n",
      "The above shows information about all known Vagrant environments\n",
      "on this machine. This data is cached and may not be completely\n",
      "up-to-date. To interact with any of the machines, you can go to\n",
      "that directory and run Vagrant, or you can use the ID directly\n",
      "with Vagrant commands from any directory. For example:\n",
      "\"vagrant destroy 1a2b3c4d\"\u001b[0m\n"
     ]
    }
   ],
   "source": [
    "!vagrant global-status --prune"
   ]
  },
  {
   "cell_type": "markdown",
   "metadata": {},
   "source": [
    "## vx lab - personal workspace\n",
    "\n",
    "pm -  puppet master\n",
    "\n",
    "pa[05] - puppet agents "
   ]
  },
  {
   "cell_type": "code",
   "execution_count": 55,
   "metadata": {
    "collapsed": true
   },
   "outputs": [
    {
     "name": "stdout",
     "output_type": "stream",
     "text": [
      "\u001b[0mCurrent machine states:\r\n",
      "\r\n",
      "pm00                      not created (virtualbox)\r\n",
      "pa00                      not created (virtualbox)\r\n",
      "\r\n",
      "This environment represents multiple VMs. The VMs are all listed\r\n",
      "above with their current state. For more information about a specific\r\n",
      "VM, run `vagrant status NAME`.\u001b[0m\r\n"
     ]
    }
   ],
   "source": [
    "!vagrant status"
   ]
  },
  {
   "cell_type": "markdown",
   "metadata": {},
   "source": [
    "## hostfiles for everyone\n",
    "\n",
    "All vagrant nodes must have FDQNs in hosts file"
   ]
  },
  {
   "cell_type": "code",
   "execution_count": 56,
   "metadata": {
    "collapsed": true
   },
   "outputs": [
    {
     "name": "stdout",
     "output_type": "stream",
     "text": [
      "    pm00.vm.network \"private_network\", ip: \"192.168.40.5\"\n",
      "    pa00.vm.network \"private_network\", ip: \"192.168.40.20\"\n",
      "    pm00.vm.hostname = \"pm00.vm.local\"\n",
      "    pa00.vm.hostname = \"pa00.vm.local\"\n"
     ]
    }
   ],
   "source": [
    "!grep network ../Vagrantfile\n",
    "!grep hostname ../Vagrantfile\n"
   ]
  },
  {
   "cell_type": "markdown",
   "metadata": {},
   "source": [
    "So this file will be appened to the vx boxes when they boot."
   ]
  },
  {
   "cell_type": "code",
   "execution_count": 57,
   "metadata": {
    "collapsed": true
   },
   "outputs": [
    {
     "name": "stdout",
     "output_type": "stream",
     "text": [
      "# appended to /etc/hosts\r\n",
      "\r\n",
      "192.168.40.5        pm00.vm.local\r\n",
      "192.168.40.20       umpa00.vm.local\r\n"
     ]
    }
   ],
   "source": [
    "!cat ../vx_etc_hosts"
   ]
  },
  {
   "cell_type": "markdown",
   "metadata": {},
   "source": [
    "## bring up all boxes\n",
    "\n",
    "all nodes should have correct packages and host file"
   ]
  },
  {
   "cell_type": "code",
   "execution_count": null,
   "metadata": {
    "collapsed": true
   },
   "outputs": [],
   "source": [
    "!va"
   ]
  },
  {
   "cell_type": "markdown",
   "metadata": {},
   "source": [
    "## check - FDQN\n",
    "\n",
    "[+] all nodes must have list of vx nodes in host file\n",
    "\n",
    "[+] all nodes must be able to ping each other\n",
    "\n"
   ]
  },
  {
   "cell_type": "markdown",
   "metadata": {
    "collapsed": true
   },
   "source": [
    "## check ports for puppetmaster\n",
    "\n",
    "* port 8140\n",
    "\n",
    "* port 61613\n",
    "\n",
    "* port 3000\n",
    "\n",
    "* port 443"
   ]
  },
  {
   "cell_type": "markdown",
   "metadata": {},
   "source": [
    "## check puppetmaster status"
   ]
  },
  {
   "cell_type": "code",
   "execution_count": 50,
   "metadata": {
    "collapsed": true
   },
   "outputs": [
    {
     "name": "stdout",
     "output_type": "stream",
     "text": [
      "3.4.3\n",
      " * master is running\n",
      "Connection to 127.0.0.1 closed.\n"
     ]
    }
   ],
   "source": [
    "!vagrant ssh uxpm00 -c 'puppet --version; sudo service puppetmaster status'"
   ]
  },
  {
   "cell_type": "code",
   "execution_count": 46,
   "metadata": {
    "collapsed": true
   },
   "outputs": [
    {
     "name": "stdout",
     "output_type": "stream",
     "text": [
      "Run mode 'user': local\n",
      "Connection to 127.0.0.1 closed.\n"
     ]
    }
   ],
   "source": [
    "!vagrant ssh uxpm00 -c 'puppet status info'"
   ]
  },
  {
   "cell_type": "markdown",
   "metadata": {},
   "source": [
    "## check puppet agent\n"
   ]
  },
  {
   "cell_type": "code",
   "execution_count": 48,
   "metadata": {
    "collapsed": true
   },
   "outputs": [
    {
     "name": "stdout",
     "output_type": "stream",
     "text": [
      "3.4.3\r\n",
      " * agent is running\r\n",
      "Connection to 127.0.0.1 closed.\r",
      "\r\n"
     ]
    }
   ],
   "source": [
    "!vagrant ssh uxpa00 -c 'puppet --version; sudo service puppet status'"
   ]
  },
  {
   "cell_type": "markdown",
   "metadata": {},
   "source": [
    "## setting up the certs  - on master"
   ]
  },
  {
   "cell_type": "code",
   "execution_count": 49,
   "metadata": {
    "collapsed": true
   },
   "outputs": [
    {
     "name": "stdout",
     "output_type": "stream",
     "text": [
      "+ \"uxpm00.vm.local\" (SHA256) 36:D1:4A:17:DD:56:99:31:10:5F:19:C9:A2:B0:37:D2:9A:D9:96:61:5B:C9:65:18:37:51:98:2A:84:99:DD:11 (alt names: \"DNS:puppet\", \"DNS:puppet.vm.local\", \"DNS:uxpm00.vm.local\")\n",
      "Connection to 127.0.0.1 closed.\n"
     ]
    }
   ],
   "source": [
    "!vagrant ssh uxpm00 -c 'sudo puppet cert list --all'"
   ]
  }
 ],
 "metadata": {
  "kernelspec": {
   "display_name": "Python 2",
   "language": "python",
   "name": "python2"
  },
  "language_info": {
   "codemirror_mode": {
    "name": "ipython",
    "version": 2
   },
   "file_extension": ".py",
   "mimetype": "text/x-python",
   "name": "python",
   "nbconvert_exporter": "python",
   "pygments_lexer": "ipython2",
   "version": "2.7.11"
  }
 },
 "nbformat": 4,
 "nbformat_minor": 0
}
